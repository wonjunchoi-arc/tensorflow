{
  "nbformat": 4,
  "nbformat_minor": 0,
  "metadata": {
    "colab": {
      "name": "자연어처리사전.ipynb",
      "provenance": [],
      "mount_file_id": "1uKrOG8ClU5mOLArc8x0YiWaekaWxKFFD",
      "authorship_tag": "ABX9TyNgPWZow4gOsNKrkKFX/DE3",
      "include_colab_link": true
    },
    "kernelspec": {
      "name": "python3",
      "display_name": "Python 3"
    },
    "language_info": {
      "name": "python"
    }
  },
  "cells": [
    {
      "cell_type": "markdown",
      "metadata": {
        "id": "view-in-github",
        "colab_type": "text"
      },
      "source": [
        "<a href=\"https://colab.research.google.com/github/wonjunchoi-arc/tensorflow/blob/main/%EC%9E%90%EC%97%B0%EC%96%B4%EC%B2%98%EB%A6%AC%EC%82%AC%EC%A0%84.ipynb\" target=\"_parent\"><img src=\"https://colab.research.google.com/assets/colab-badge.svg\" alt=\"Open In Colab\"/></a>"
      ]
    },
    {
      "cell_type": "code",
      "metadata": {
        "colab": {
          "base_uri": "https://localhost:8080/"
        },
        "id": "KRloLegaA78P",
        "outputId": "c6d27f19-b11c-45aa-aa74-2dc60fa9aee3"
      },
      "source": [
        "!apt-get update \n",
        "!apt-get install g++ openjdk-8-jdk \n",
        "!pip install konlpy JPype1-py3 \n",
        "!pip install nltk"
      ],
      "execution_count": null,
      "outputs": [
        {
          "output_type": "stream",
          "text": [
            "Hit:1 https://cloud.r-project.org/bin/linux/ubuntu bionic-cran40/ InRelease\n",
            "Ign:2 https://developer.download.nvidia.com/compute/cuda/repos/ubuntu1804/x86_64  InRelease\n",
            "Get:3 http://security.ubuntu.com/ubuntu bionic-security InRelease [88.7 kB]\n",
            "Ign:4 https://developer.download.nvidia.com/compute/machine-learning/repos/ubuntu1804/x86_64  InRelease\n",
            "Hit:5 https://developer.download.nvidia.com/compute/cuda/repos/ubuntu1804/x86_64  Release\n",
            "Hit:6 https://developer.download.nvidia.com/compute/machine-learning/repos/ubuntu1804/x86_64  Release\n",
            "Hit:7 http://ppa.launchpad.net/c2d4u.team/c2d4u4.0+/ubuntu bionic InRelease\n",
            "Hit:8 http://archive.ubuntu.com/ubuntu bionic InRelease\n",
            "Get:10 http://archive.ubuntu.com/ubuntu bionic-updates InRelease [88.7 kB]\n",
            "Hit:12 http://ppa.launchpad.net/cran/libgit2/ubuntu bionic InRelease\n",
            "Hit:13 http://ppa.launchpad.net/deadsnakes/ppa/ubuntu bionic InRelease\n",
            "Get:14 http://archive.ubuntu.com/ubuntu bionic-backports InRelease [74.6 kB]\n",
            "Hit:15 http://ppa.launchpad.net/graphics-drivers/ppa/ubuntu bionic InRelease\n",
            "Fetched 252 kB in 3s (90.5 kB/s)\n",
            "Reading package lists... Done\n",
            "Reading package lists... Done\n",
            "Building dependency tree       \n",
            "Reading state information... Done\n",
            "g++ is already the newest version (4:7.4.0-1ubuntu2.3).\n",
            "openjdk-8-jdk is already the newest version (8u292-b10-0ubuntu1~18.04).\n",
            "0 upgraded, 0 newly installed, 0 to remove and 107 not upgraded.\n",
            "Requirement already satisfied: konlpy in /usr/local/lib/python3.7/dist-packages (0.5.2)\n",
            "Requirement already satisfied: JPype1-py3 in /usr/local/lib/python3.7/dist-packages (0.5.5.4)\n",
            "Requirement already satisfied: colorama in /usr/local/lib/python3.7/dist-packages (from konlpy) (0.4.4)\n",
            "Requirement already satisfied: beautifulsoup4==4.6.0 in /usr/local/lib/python3.7/dist-packages (from konlpy) (4.6.0)\n",
            "Requirement already satisfied: tweepy>=3.7.0 in /usr/local/lib/python3.7/dist-packages (from konlpy) (3.10.0)\n",
            "Requirement already satisfied: numpy>=1.6 in /usr/local/lib/python3.7/dist-packages (from konlpy) (1.19.5)\n",
            "Requirement already satisfied: lxml>=4.1.0 in /usr/local/lib/python3.7/dist-packages (from konlpy) (4.2.6)\n",
            "Requirement already satisfied: JPype1>=0.7.0 in /usr/local/lib/python3.7/dist-packages (from konlpy) (1.3.0)\n",
            "Requirement already satisfied: typing-extensions in /usr/local/lib/python3.7/dist-packages (from JPype1>=0.7.0->konlpy) (3.7.4.3)\n",
            "Requirement already satisfied: six>=1.10.0 in /usr/local/lib/python3.7/dist-packages (from tweepy>=3.7.0->konlpy) (1.15.0)\n",
            "Requirement already satisfied: requests[socks]>=2.11.1 in /usr/local/lib/python3.7/dist-packages (from tweepy>=3.7.0->konlpy) (2.23.0)\n",
            "Requirement already satisfied: requests-oauthlib>=0.7.0 in /usr/local/lib/python3.7/dist-packages (from tweepy>=3.7.0->konlpy) (1.3.0)\n",
            "Requirement already satisfied: oauthlib>=3.0.0 in /usr/local/lib/python3.7/dist-packages (from requests-oauthlib>=0.7.0->tweepy>=3.7.0->konlpy) (3.1.1)\n",
            "Requirement already satisfied: idna<3,>=2.5 in /usr/local/lib/python3.7/dist-packages (from requests[socks]>=2.11.1->tweepy>=3.7.0->konlpy) (2.10)\n",
            "Requirement already satisfied: urllib3!=1.25.0,!=1.25.1,<1.26,>=1.21.1 in /usr/local/lib/python3.7/dist-packages (from requests[socks]>=2.11.1->tweepy>=3.7.0->konlpy) (1.24.3)\n",
            "Requirement already satisfied: chardet<4,>=3.0.2 in /usr/local/lib/python3.7/dist-packages (from requests[socks]>=2.11.1->tweepy>=3.7.0->konlpy) (3.0.4)\n",
            "Requirement already satisfied: certifi>=2017.4.17 in /usr/local/lib/python3.7/dist-packages (from requests[socks]>=2.11.1->tweepy>=3.7.0->konlpy) (2021.5.30)\n",
            "Requirement already satisfied: PySocks!=1.5.7,>=1.5.6 in /usr/local/lib/python3.7/dist-packages (from requests[socks]>=2.11.1->tweepy>=3.7.0->konlpy) (1.7.1)\n",
            "Requirement already satisfied: nltk in /usr/local/lib/python3.7/dist-packages (3.2.5)\n",
            "Requirement already satisfied: six in /usr/local/lib/python3.7/dist-packages (from nltk) (1.15.0)\n"
          ],
          "name": "stdout"
        }
      ]
    },
    {
      "cell_type": "code",
      "metadata": {
        "id": "AoT4TX3HANZN"
      },
      "source": [
        "import pandas as pd\n",
        "import numpy as np\n",
        "import matplotlib.pyplot as plt\n",
        "import re\n",
        "import json\n",
        "import os\n",
        "import tqdm\n",
        "\n",
        "from konlpy.tag import Okt\n",
        "\n",
        "import sklearn\n",
        "from sklearn.preprocessing import LabelEncoder\n",
        "from sklearn.model_selection import train_test_split\n",
        "from sklearn.metrics import log_loss, accuracy_score,f1_score\n",
        "from sklearn.feature_extraction.text import CountVectorizer\n",
        "from sklearn.ensemble import RandomForestClassifier"
      ],
      "execution_count": null,
      "outputs": []
    },
    {
      "cell_type": "code",
      "metadata": {
        "id": "Omo-nDqvLQq3"
      },
      "source": [
        "# train = pd.read_csv('/content/drive/MyDrive/dacon/train.csv')#usecols=원하는 컬럼 가져오기\n",
        "train = pd.read_csv('/content/drive/MyDrive/dacon/train.csv')#원하는 컬럼 가져오기                    \n",
        "test = pd.read_csv('/content/drive/MyDrive/dacon/test.csv')\n",
        "\n",
        "sample_submission = pd.read_csv('/content/drive/MyDrive/dacon/sample_submission.csv', header=0)"
      ],
      "execution_count": null,
      "outputs": []
    },
    {
      "cell_type": "code",
      "metadata": {
        "colab": {
          "base_uri": "https://localhost:8080/"
        },
        "id": "xEgjqOGTLrbk",
        "outputId": "76ebc45b-490c-4668-82af-7b758911e697"
      },
      "source": [
        "#데이터 구조 파악\n",
        "print(train.shape)\n",
        "print(test.shape)\n",
        "print(sample_submission.shape)\n",
        "print(train.head())\n",
        "print(train.label)"
      ],
      "execution_count": null,
      "outputs": [
        {
          "output_type": "stream",
          "text": [
            "(174304, 13)\n",
            "(43576, 12)\n",
            "(43576, 2)\n",
            "   index  제출년도  ...                                          요약문_영문키워드 label\n",
            "0      0  2016  ...  nucleotide sequence, molecular marker, species...    24\n",
            "1      1  2019  ...  TRAIL,Colorectal cancer,TRAIL resistance,Apopt...     0\n",
            "2      2  2016  ...  functional cellulose fiber,natural fiber,funct...     0\n",
            "3      3  2018  ...  Molecular diagnosis,Fluorescence,probe,antibod...     0\n",
            "4      4  2016  ...  BRCA,Insituhybridization,tissuemicroarray,micr...     0\n",
            "\n",
            "[5 rows x 13 columns]\n",
            "0         24\n",
            "1          0\n",
            "2          0\n",
            "3          0\n",
            "4          0\n",
            "          ..\n",
            "174299     0\n",
            "174300     0\n",
            "174301     0\n",
            "174302    23\n",
            "174303     0\n",
            "Name: label, Length: 174304, dtype: int64\n"
          ],
          "name": "stdout"
        }
      ]
    },
    {
      "cell_type": "code",
      "metadata": {
        "colab": {
          "base_uri": "https://localhost:8080/"
        },
        "id": "SFG-5yBvMFH1",
        "outputId": "b4d3332a-1259-4034-9098-424edb959ab1"
      },
      "source": [
        "train.label.value_counts(sort=False)/len(train)"
      ],
      "execution_count": null,
      "outputs": [
        {
          "output_type": "execute_result",
          "data": {
            "text/plain": [
              "0     0.817945\n",
              "1     0.007234\n",
              "2     0.001578\n",
              "3     0.000820\n",
              "4     0.000327\n",
              "5     0.009742\n",
              "6     0.000447\n",
              "7     0.000648\n",
              "8     0.001945\n",
              "9     0.000608\n",
              "10    0.003775\n",
              "11    0.001147\n",
              "12    0.001538\n",
              "13    0.003299\n",
              "14    0.009592\n",
              "15    0.000947\n",
              "16    0.002903\n",
              "17    0.000884\n",
              "18    0.008893\n",
              "19    0.028330\n",
              "20    0.006076\n",
              "21    0.002846\n",
              "22    0.000849\n",
              "23    0.010556\n",
              "24    0.020195\n",
              "25    0.004647\n",
              "26    0.001813\n",
              "27    0.003557\n",
              "28    0.002576\n",
              "29    0.005898\n",
              "30    0.001342\n",
              "31    0.005290\n",
              "32    0.001492\n",
              "33    0.003058\n",
              "34    0.003001\n",
              "35    0.001669\n",
              "36    0.006081\n",
              "37    0.001526\n",
              "38    0.001503\n",
              "39    0.001159\n",
              "40    0.002530\n",
              "41    0.000384\n",
              "42    0.000293\n",
              "43    0.002014\n",
              "44    0.000522\n",
              "45    0.006523\n",
              "Name: label, dtype: float64"
            ]
          },
          "metadata": {
            "tags": []
          },
          "execution_count": 28
        }
      ]
    },
    {
      "cell_type": "code",
      "metadata": {
        "colab": {
          "base_uri": "https://localhost:8080/",
          "height": 656
        },
        "id": "iK3ihBHSMOg2",
        "outputId": "c6c1903d-b387-4a89-dbaf-a58c83bc4caf"
      },
      "source": [
        "length=train['과제명'].astype(str).apply(len)\n",
        "plt.hist(length, bins=50, alpha=0.5, color='r', label='word')\n",
        "plt.title('histogram of length of task_name')\n",
        "plt.figure(figsize=(12, 5))\n",
        "plt.boxplot(length, labels=['counts'], showmeans=True)\n",
        "print('과제명 길이 최댓값: {}'.format(np.max(length)))\n",
        "print('과제명 길이 최솟값: {}'.format(np.min(length)))\n",
        "print('과제명 길이 평균값: {}'.format(np.mean(length)))\n",
        "print('과제명 길이 중간값: {}'.format(np.median(length)))"
      ],
      "execution_count": null,
      "outputs": [
        {
          "output_type": "stream",
          "text": [
            "과제명 길이 최댓값: 229\n",
            "과제명 길이 최솟값: 2\n",
            "과제명 길이 평균값: 35.84252225995961\n",
            "과제명 길이 중간값: 34.0\n"
          ],
          "name": "stdout"
        },
        {
          "output_type": "display_data",
          "data": {
            "image/png": "[encoded data removed]",
            "text/plain": [
              "<Figure size 432x288 with 1 Axes>"
            ]
          },
          "metadata": {
            "tags": [],
            "needs_background": "light"
          }
        },
        {
          "output_type": "display_data",
          "data": {
            "image/png": "[encoded data removed]",
            "text/plain": [
              "<Figure size 864x360 with 1 Axes>"
            ]
          },
          "metadata": {
            "tags": [],
            "needs_background": "light"
          }
        }
      ]
    },
    {
      "cell_type": "code",
      "metadata": {
        "colab": {
          "base_uri": "https://localhost:8080/",
          "height": 656
        },
        "id": "OS_njwv5MOk6",
        "outputId": "f971804c-eed9-4b86-a726-a771da1faf07"
      },
      "source": [
        "length=train['요약문_연구목표'].astype(str).apply(len)\n",
        "plt.hist(length, bins=50, alpha=0.5, color='r', label='word')\n",
        "plt.title('histogram of length of summary_object')\n",
        "plt.figure(figsize=(12, 5))\n",
        "plt.boxplot(length, labels=['counts'], showmeans=True)\n",
        "print('요약문_연구목표 길이 최댓값: {}'.format(np.max(length)))\n",
        "print('요약문_연구목표 길이 최솟값: {}'.format(np.min(length)))\n",
        "print('요약문_연구목표 길이 평균값: {}'.format(np.mean(length)))\n",
        "print('요약문_연구목표 길이 중간값: {}'.format(np.median(length)))"
      ],
      "execution_count": null,
      "outputs": [
        {
          "output_type": "stream",
          "text": [
            "요약문_연구목표 길이 최댓값: 3951\n",
            "요약문_연구목표 길이 최솟값: 1\n",
            "요약문_연구목표 길이 평균값: 318.1008066366807\n",
            "요약문_연구목표 길이 중간값: 249.0\n"
          ],
          "name": "stdout"
        },
        {
          "output_type": "display_data",
          "data": {
            "image/png": "[encoded data removed]",
            "text/plain": [
              "<Figure size 432x288 with 1 Axes>"
            ]
          },
          "metadata": {
            "tags": [],
            "needs_background": "light"
          }
        },
        {
          "output_type": "display_data",
          "data": {
            "image/png": "[encoded data removed]",
            "text/plain": [
              "<Figure size 864x360 with 1 Axes>"
            ]
          },
          "metadata": {
            "tags": [],
            "needs_background": "light"
          }
        }
      ]
    },
    {
      "cell_type": "code",
      "metadata": {
        "colab": {
          "base_uri": "https://localhost:8080/"
        },
        "id": "oqPHqZKacKla",
        "outputId": "2c63dfed-3187-4c73-d7f6-011cea2c5893"
      },
      "source": [
        "train_okt = pd.read_csv('/content/drive/MyDrive/dacon/train_okt.csv')#원하는 컬럼 가져오기                    \n",
        "test_okt = pd.read_csv('/content/drive/MyDrive/dacon/test_okt.csv')\n",
        "\n",
        "sample_submission = pd.read_csv('/content/drive/MyDrive/dacon/sample_submission.csv', header=0)\n",
        "len(train_okt)\n",
        "len(test_okt)\n"
      ],
      "execution_count": null,
      "outputs": [
        {
          "output_type": "execute_result",
          "data": {
            "text/plain": [
              "43576"
            ]
          },
          "metadata": {
            "tags": []
          },
          "execution_count": 49
        }
      ]
    },
    {
      "cell_type": "code",
      "metadata": {
        "colab": {
          "base_uri": "https://localhost:8080/"
        },
        "id": "2DbclB6QcdIh",
        "outputId": "99b05b71-59ba-4201-c9ec-7d21959bebe1"
      },
      "source": [
        "print(len(train_okt))\n",
        "print(len(test_okt))\n",
        "print(train_okt)\n"
      ],
      "execution_count": null,
      "outputs": [
        {
          "output_type": "stream",
          "text": [
            "174304\n",
            "43576\n",
            "                                                        0   1\n",
            "0                            유전정보를 활용한 새로운 해충 분류군 동정기술 개발  24\n",
            "1       대장암의 TRAIL 내성 표적 인자 발굴 및 TRAIL 반응 예측 유전자 지도 구축...   0\n",
            "2       비목질계 셀룰로오스 식물자원을 활용한 기능성 부직포 및 고부가가치 뷰티케어 faci...   0\n",
            "3                                 소화기 암 진단용 분자영상 형광프로브 개발   0\n",
            "4                             위암환자의 항암제반응예측을 위한 BRCA 발현검사   0\n",
            "...                                                   ...  ..\n",
            "174299                           혈관내막 증식을 치료하기 위한 표적분자 발굴   0\n",
            "174300  삼킴곤란 개선을 위한 물성조절 식품시스템에서의 유동층과립 복합소재의 유변물성 변화 ...   0\n",
            "174301                      식물 유전체 정보 고도화 및 핵심 유전자 군 진화연구   0\n",
            "174302                   콩 유전자원 내건성, 내습성 대량평가 체계구축 및 자원선발  23\n",
            "174303             광학적 위상 제어 기법을 적용한 디지털 홀로그래피 현미경 시스템 개발   0\n",
            "\n",
            "[174304 rows x 2 columns]\n"
          ],
          "name": "stdout"
        }
      ]
    },
    {
      "cell_type": "code",
      "metadata": {
        "id": "ZIDwh569ckS3"
      },
      "source": [
        "from sklearn.feature_extraction.text import CountVectorizer\n",
        "\n",
        "#tokenizer 인자에는 list를 받아서 그대로 내보내는 함수를 넣어줍니다. 또한 소문자화를 하지 않도록 설정해야 에러가 나지 않습니다.\n",
        "vectorizer = CountVectorizer(tokenizer = lambda x: x, lowercase=False)\n",
        "train_features=vectorizer.fit_transform(train_okt['0'])\n",
        "test_features=vectorizer.transform(test_okt['0'])\n",
        "#test데이터에 fit_transform을 할 경우 data leakage에 해당합니다"
      ],
      "execution_count": null,
      "outputs": []
    },
    {
      "cell_type": "code",
      "metadata": {
        "colab": {
          "base_uri": "https://localhost:8080/"
        },
        "id": "ckr2VOP2qSY1",
        "outputId": "fecd1ace-b284-4527-dd0c-d83d69a4d274"
      },
      "source": [
        "print(train_features.shape)\n",
        "print(train_features)"
      ],
      "execution_count": null,
      "outputs": [
        {
          "output_type": "stream",
          "text": [
            "(174304, 1832)\n",
            "  (0, 1347)\t1\n",
            "  (0, 1389)\t1\n",
            "  (0, 1395)\t2\n",
            "  (0, 1071)\t1\n",
            "  (0, 943)\t1\n",
            "  (0, 2)\t6\n",
            "  (0, 1771)\t1\n",
            "  (0, 1324)\t1\n",
            "  (0, 1721)\t1\n",
            "  (0, 1128)\t1\n",
            "  (0, 914)\t1\n",
            "  (0, 1327)\t1\n",
            "  (0, 1727)\t1\n",
            "  (0, 1508)\t1\n",
            "  (0, 1082)\t1\n",
            "  (0, 936)\t1\n",
            "  (0, 606)\t1\n",
            "  (0, 805)\t1\n",
            "  (0, 632)\t1\n",
            "  (0, 1184)\t1\n",
            "  (0, 549)\t1\n",
            "  (0, 1035)\t1\n",
            "  (1, 1347)\t1\n",
            "  (1, 1389)\t1\n",
            "  (1, 2)\t14\n",
            "  :\t:\n",
            "  (174303, 632)\t1\n",
            "  (174303, 549)\t1\n",
            "  (174303, 1035)\t1\n",
            "  (174303, 1388)\t2\n",
            "  (174303, 1433)\t1\n",
            "  (174303, 1199)\t1\n",
            "  (174303, 1355)\t1\n",
            "  (174303, 1272)\t1\n",
            "  (174303, 1397)\t1\n",
            "  (174303, 1127)\t1\n",
            "  (174303, 598)\t1\n",
            "  (174303, 1341)\t1\n",
            "  (174303, 1755)\t1\n",
            "  (174303, 1205)\t1\n",
            "  (174303, 581)\t1\n",
            "  (174303, 1054)\t1\n",
            "  (174303, 1720)\t1\n",
            "  (174303, 881)\t1\n",
            "  (174303, 1712)\t1\n",
            "  (174303, 1619)\t1\n",
            "  (174303, 1019)\t1\n",
            "  (174303, 832)\t1\n",
            "  (174303, 1611)\t1\n",
            "  (174303, 623)\t1\n",
            "  (174303, 1764)\t1\n"
          ],
          "name": "stdout"
        }
      ]
    },
    {
      "cell_type": "code",
      "metadata": {
        "id": "PbieNQgYcv-f"
      },
      "source": [
        "#훈련 데이터 셋과 검증 데이터 셋으로 분리\n",
        "TEST_SIZE=0.2\n",
        "RANDOM_SEED=42\n",
        "\n",
        "train_x, eval_x, train_y, eval_y=train_test_split(train_features, train['label'], test_size=TEST_SIZE, random_state=RANDOM_SEED)"
      ],
      "execution_count": null,
      "outputs": []
    },
    {
      "cell_type": "code",
      "metadata": {
        "colab": {
          "base_uri": "https://localhost:8080/"
        },
        "id": "nUvq5JLhd7aa",
        "outputId": "f1cef753-1756-4019-b9ea-690856ba1d0b"
      },
      "source": [
        "#랜덤포레스트로 모델링\n",
        "from sklearn.ensemble import RandomForestClassifier\n",
        "\n",
        "forest=RandomForestClassifier(n_estimators=100)\n",
        "\n",
        "forest.fit(train_x, train_y)"
      ],
      "execution_count": null,
      "outputs": [
        {
          "output_type": "execute_result",
          "data": {
            "text/plain": [
              "RandomForestClassifier(bootstrap=True, ccp_alpha=0.0, class_weight=None,\n",
              "                       criterion='gini', max_depth=None, max_features='auto',\n",
              "                       max_leaf_nodes=None, max_samples=None,\n",
              "                       min_impurity_decrease=0.0, min_impurity_split=None,\n",
              "                       min_samples_leaf=1, min_samples_split=2,\n",
              "                       min_weight_fraction_leaf=0.0, n_estimators=100,\n",
              "                       n_jobs=None, oob_score=False, random_state=None,\n",
              "                       verbose=0, warm_start=False)"
            ]
          },
          "metadata": {
            "tags": []
          },
          "execution_count": 55
        }
      ]
    },
    {
      "cell_type": "code",
      "metadata": {
        "colab": {
          "base_uri": "https://localhost:8080/"
        },
        "id": "i-0wZPWed7bU",
        "outputId": "6468a1e4-800a-43b1-b4e4-05b0a3d28645"
      },
      "source": [
        "#모델 검증\n",
        "forest.score(eval_x, eval_y)"
      ],
      "execution_count": null,
      "outputs": [
        {
          "output_type": "execute_result",
          "data": {
            "text/plain": [
              "0.9136284099710278"
            ]
          },
          "metadata": {
            "tags": []
          },
          "execution_count": 56
        }
      ]
    },
    {
      "cell_type": "code",
      "metadata": {
        "colab": {
          "base_uri": "https://localhost:8080/"
        },
        "id": "c9OPB6_UeIJj",
        "outputId": "e66d4475-8091-4ca1-f4c5-71623e62c3b6"
      },
      "source": [
        "y_predict=forest.predict(test_features)\n",
        "print(y_predict)\n"
      ],
      "execution_count": null,
      "outputs": [
        {
          "output_type": "stream",
          "text": [
            "[0 0 0 ... 2 0 0]\n"
          ],
          "name": "stdout"
        }
      ]
    },
    {
      "cell_type": "code",
      "metadata": {
        "colab": {
          "base_uri": "https://localhost:8080/"
        },
        "id": "GbXUO2HXeIIM",
        "outputId": "ddac365b-459b-4648-ade4-bd92106da959"
      },
      "source": [
        "sample_submission['label']=y_predict\n",
        "print(sample_submission)\n",
        "sample_submission.to_csv('/content/drive/MyDrive/dacon/submission.csv', index=False)"
      ],
      "execution_count": null,
      "outputs": [
        {
          "output_type": "stream",
          "text": [
            "        index  label\n",
            "0      174304      0\n",
            "1      174305      0\n",
            "2      174306      0\n",
            "3      174307      0\n",
            "4      174308      0\n",
            "...       ...    ...\n",
            "43571  217875      0\n",
            "43572  217876      0\n",
            "43573  217877      2\n",
            "43574  217878      0\n",
            "43575  217879      0\n",
            "\n",
            "[43576 rows x 2 columns]\n"
          ],
          "name": "stdout"
        }
      ]
    },
    {
      "cell_type": "code",
      "metadata": {
        "id": "FyHkIkybeDDc"
      },
      "source": [
        ""
      ],
      "execution_count": null,
      "outputs": []
    },
    {
      "cell_type": "code",
      "metadata": {
        "id": "wsbi5nfOeHaJ"
      },
      "source": [
        ""
      ],
      "execution_count": null,
      "outputs": []
    }
  ]
}